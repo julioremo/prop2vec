{
 "cells": [
  {
   "cell_type": "code",
   "execution_count": 186,
   "metadata": {},
   "outputs": [],
   "source": [
    "import pycurl\n",
    "\n",
    "INFOBOXPROPS_URL = 'http://downloads.dbpedia.org/2016-10/core-i18n/en/infobox_properties_en.ttl.bz2'\n",
    "LABELS_URL = 'http://downloads.dbpedia.org/2016-10/core-i18n/en/labels_en.ttl.bz2'\n",
    "\n",
    "\n",
    "def download_tofile(url, filename=None):\n",
    "    if filename is None:\n",
    "        filename = url.split('/')[-1]\n",
    "    with open(filename, 'wb') as f:\n",
    "        c = pycurl.Curl()\n",
    "        c.setopt(c.VERBOSE, True)\n",
    "        c.setopt(c.URL, url)\n",
    "        c.setopt(c.WRITEDATA, f)\n",
    "        c.perform()\n",
    "        c.close()\n",
    "\n",
    "download_tofile(INFOBOXPROPS_URL)\n",
    "download_tofile(LABELS_URL)\n",
    "print('done')"
   ]
  },
  {
   "cell_type": "code",
   "execution_count": 98,
   "metadata": {},
   "outputs": [],
   "source": [
    "PRETRAINEDVECTORS_URL = 'https://googledrive.com/host/0B7XkCwpI5KDYeFdmcVltWkhtbmM'\n",
    "PRETRAINEDVECTORS = 'freebase-vectors-skipgram1000-en.bin.gz'\n",
    "\n",
    "download_tofile(PRETRAINEDVECTORS_URL, PRETRAINEDVECTORS)\n",
    "print('done')"
   ]
  },
  {
   "cell_type": "code",
   "execution_count": 4,
   "metadata": {},
   "outputs": [],
   "source": [
    "import pandas as pd\n",
    "import bz2\n",
    "\n",
    "INFOBOXPROPS = 'infobox_properties_en.ttl.bz2'\n",
    "LABELS = 'labels_en.ttl.bz2'\n",
    "\n",
    "\n",
    "def bz2_todf(filename, usecols=[0,1,2], colnames=['subject', 'property', 'object']):\n",
    "    with bz2.open(filename, mode='rt') as f:\n",
    "        data = pd.read_csv(f, sep=' ', header=None, skiprows=[0, -1],\n",
    "                           usecols=usecols, names=colnames)\n",
    "        return data\n",
    "\n",
    "\n",
    "infoboxprops = bz2_todf(INFOBOXPROPS)\n",
    "labelled = bz2_todf(LABELS, usecols=[0,2], colnames=['subject', 'label'])\n",
    "print('done')"
   ]
  },
  {
   "cell_type": "code",
   "execution_count": 1,
   "metadata": {},
   "outputs": [],
   "source": [
    "property_list = infoboxprops.property.drop_duplicates().apply(\n",
    "                    lambda x: x.split('/')[-1][:-1]).tolist()"
   ]
  },
  {
   "cell_type": "code",
   "execution_count": 22,
   "metadata": {},
   "outputs": [],
   "source": [
    "from gensim.models import KeyedVectors\n",
    "\n",
    "PRETRAINEDVECTORS = 'freebase-vectors-skipgram1000-en.bin.gz'\n",
    "model = KeyedVectors.load_word2vec_format(PRETRAINEDVECTORS, binary=True)"
   ]
  },
  {
   "cell_type": "code",
   "execution_count": 131,
   "metadata": {},
   "outputs": [],
   "source": [
    "import re\n",
    "import numpy as np\n",
    "\n",
    "\n",
    "def format_DBPtoFreebase(label):\n",
    "    # converts 'Hari Om (2016 film)@en' into '/en/hari_om'\n",
    "    cropped = re.sub(r\"\\(.*\\)\", \"\", label[:-3]).strip()\n",
    "    formatted = '/en/' + cropped.lower().replace(' ', '_')\n",
    "    return formatted\n",
    "\n",
    "\n",
    "def format_FreebasetoTitle(label):\n",
    "    # converts '/en/hari_om' into 'Hari Om'\n",
    "    formatted = label[4:].replace('_', ' ').title()\n",
    "    return formatted\n",
    "\n",
    "\n",
    "def format_results_towords(ranked_tuples):\n",
    "    return [format_FreebasetoTitle(t[0]) for t in ranked_tuples]\n",
    "\n",
    "\n",
    "def get_labels(p, n_basis=1000):\n",
    "    ending = '/' + p + '>'\n",
    "    matching = pd.Series([ending in row for row in infoboxprops['property']])\n",
    "    objs = infoboxprops[matching]['subject'].drop_duplicates()\n",
    "    labels = labelled[labelled['subject'].isin(objs)].label\n",
    "    return labels\n",
    "\n",
    "\n",
    "def get_w2v(word):\n",
    "    try:\n",
    "        return model.wv[word]\n",
    "    except:\n",
    "        return None\n",
    "\n",
    "\n",
    "def similar_by_property(prop, n_results=10, n_basis=1000, justwords=False):\n",
    "    labels = get_labels(prop, n_basis=n_basis)\n",
    "    formatted_labels = labels.apply(format_DBPtoFreebase)\n",
    "    vectors = formatted_labels.apply(get_w2v).dropna()\n",
    "    pdcentroid = vectors.mean()\n",
    "    results = model.wv.similar_by_vector(pdcentroid, n_results)\n",
    "    if justwords == True:\n",
    "        return format_results_towords(results)\n",
    "    else:\n",
    "        return results"
   ]
  },
  {
   "cell_type": "code",
   "execution_count": 132,
   "metadata": {},
   "outputs": [
    {
     "name": "stdout",
     "output_type": "stream",
     "text": [
      "author:\n",
      "('/en/william_hope_hodgson', 0.6058804392814636)\n",
      "('/en/tanith_lee', 0.6036504507064819)\n",
      "('/en/fritz_leiber', 0.6027674078941345)\n",
      "('/en/the_king_in_yellow', 0.6027647852897644)\n",
      "('/en/lisa_goldstein', 0.5980621576309204)\n",
      "('/en/the_big_time', 0.5964199900627136)\n",
      "('/en/the_book_of_lost_tales', 0.5920685529708862)\n",
      "('/en/a_merritt', 0.5906498432159424)\n",
      "('/en/g_w_dahlquist', 0.5890225172042847)\n",
      "('/en/dorothy_dunnett', 0.5878594517707825)\n"
     ]
    }
   ],
   "source": [
    "m = 'manufacturer'\n",
    "p = 'director'\n",
    "q = 'author'\n",
    "r = 'capital'\n",
    "s = 'population'\n",
    "\n",
    "results = similar_by_property(q)\n",
    "print('Results for ' + q, *results, sep='\\n')"
   ]
  }
 ],
 "metadata": {
  "kernelspec": {
   "display_name": "Python 3",
   "language": "python",
   "name": "python3"
  },
  "language_info": {
   "codemirror_mode": {
    "name": "ipython",
    "version": 3
   },
   "file_extension": ".py",
   "mimetype": "text/x-python",
   "name": "python",
   "nbconvert_exporter": "python",
   "pygments_lexer": "ipython3",
   "version": "3.6.4"
  }
 },
 "nbformat": 4,
 "nbformat_minor": 2
}
